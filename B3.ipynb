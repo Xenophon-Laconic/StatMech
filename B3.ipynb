{
 "cells": [
  {
   "cell_type": "markdown",
   "metadata": {},
   "source": [
    "Monte Carlo I\n",
    " - Lassen Sie eine Simulation von 30.000 Schritten bei verschiedenen Pseudotemperaturen laufen DONE\n",
    " - Finden Sie Temperaturen, bei denen das System a) fest, b) flüssig und c) gasförmig ist\n",
    " - Plotten Sie die Energie des Systems als Funktion der Zeit für diese drei Fälle DONE"
   ]
  },
  {
   "cell_type": "code",
   "execution_count": null,
   "metadata": {},
   "outputs": [],
   "source": [
    "import numpy as np\n",
    "import matplotlib.pyplot as plt\n",
    "import pandas as pd"
   ]
  },
  {
   "cell_type": "code",
   "execution_count": null,
   "metadata": {},
   "outputs": [],
   "source": [
    "#posdF = pd.read_csv(\"./positions.csv\")"
   ]
  },
  {
   "cell_type": "code",
   "execution_count": null,
   "metadata": {},
   "outputs": [],
   "source": [
    "'''\n",
    "x = np.array(posdF[\"X\"])\n",
    "y = np.array(posdF[\"Y\"])\n",
    "step = np.array(posdF[\"STEP\"])\n",
    "Ndata = int(30000/1000)\n",
    "\n",
    "outsidex = 0\n",
    "outsidey = 0\n",
    "for i in range(len(x)):\n",
    "    if x[i] < 0 or x[i] > 10: outsidex +=1\n",
    "    if y[i] < 0 or y[i] > 10: outsidey +=1\n",
    "print(outsidey)\n",
    "print(outsidex)\n",
    "'''"
   ]
  },
  {
   "cell_type": "code",
   "execution_count": null,
   "metadata": {},
   "outputs": [],
   "source": [
    "'''\n",
    "for i in range(Ndata+5):\n",
    "    print(i*40)\n",
    "    onex = x[i*40:i*40+40]\n",
    "    oney = y[i*40:i*40+40]\n",
    "    plt.figure(dpi=40)\n",
    "    plt.scatter(onex,oney, s=450)\n",
    "    plt.title(f\"step: {step[i*40]}\")\n",
    "    plt.xlabel(\"x\")\n",
    "    plt.ylabel(\"y\")\n",
    "    plt.show()\n",
    "'''"
   ]
  },
  {
   "cell_type": "code",
   "execution_count": null,
   "metadata": {},
   "outputs": [],
   "source": [
    "ET0_001 = pd.read_csv(\"./B3/energiesT0_001seed42.csv\")\n",
    "ET10 = pd.read_csv(\"./B3/energiesT10seed12.csv\")\n",
    "ET5000 = pd.read_csv(\"./B3/energiesT5000seed0xC0FFEE.csv\")"
   ]
  },
  {
   "cell_type": "code",
   "execution_count": null,
   "metadata": {},
   "outputs": [],
   "source": [
    "def plot(energy, temp, seed, state):\n",
    "    x = np.array(energy[\"STEP\"])\n",
    "    y = np.array(energy[\"E\"])\n",
    "    x = x[1:]\n",
    "    y= y[1:]\n",
    "    plt.figure(dpi=125)\n",
    "    plt.scatter(x,y)\n",
    "    plt.xlabel(\"step no.\")\n",
    "    plt.ylabel(\"configuration energy\")\n",
    "    plt.title(f\"{state} phase at T = {temp} for seed {seed}\")\n",
    "    plt.show()"
   ]
  },
  {
   "cell_type": "code",
   "execution_count": null,
   "metadata": {},
   "outputs": [],
   "source": [
    "plot(ET0_001, 0.001, 42, \"solid\")\n",
    "plot(ET10, 10, 12, \"liquid\")\n",
    "plot(ET5000, 5000, \"0XC0FFEE\", \"gaseous\")"
   ]
  },
  {
   "cell_type": "markdown",
   "metadata": {},
   "source": [
    "Bonus: Radial Distribution Function"
   ]
  },
  {
   "cell_type": "code",
   "execution_count": null,
   "metadata": {},
   "outputs": [],
   "source": [
    "def g(x,y):\n",
    "    g = 0\n",
    "    for i in range(len(x)):\n",
    "        for j in range(i+1,len(x)):\n",
    "            if()"
   ]
  }
 ],
 "metadata": {
  "kernelspec": {
   "display_name": "base",
   "language": "python",
   "name": "python3"
  },
  "language_info": {
   "codemirror_mode": {
    "name": "ipython",
    "version": 3
   },
   "file_extension": ".py",
   "mimetype": "text/x-python",
   "name": "python",
   "nbconvert_exporter": "python",
   "pygments_lexer": "ipython3",
   "version": "3.12.1"
  }
 },
 "nbformat": 4,
 "nbformat_minor": 2
}
